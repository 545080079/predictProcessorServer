{
 "cells": [
  {
   "cell_type": "code",
   "execution_count": 11,
   "id": "e1855626",
   "metadata": {},
   "outputs": [
    {
     "name": "stdout",
     "output_type": "stream",
     "text": [
      "{'dummy': 9, 'n1': 1, 'n2': 2, 'n3': 3}\n"
     ]
    }
   ],
   "source": [
    "import json\n",
    "\n",
    "nameCountMap = {}\n",
    "with open('NameCountMap') as f:\n",
    "    for line in f.readlines():\n",
    "        l = line.split(' ')\n",
    "        nameCountMap[l[0]] = int(l[1][0])\n",
    "print(nameCountMap)"
   ]
  },
  {
   "cell_type": "code",
   "execution_count": 15,
   "id": "10ceb352",
   "metadata": {},
   "outputs": [
    {
     "name": "stdout",
     "output_type": "stream",
     "text": [
      "{'1': 1, '22': 1, '3': 0, '4': 1}\n"
     ]
    }
   ],
   "source": [
    "inputOutputMap = {}\n",
    "with open('InputOutputMap') as f:\n",
    "    for line in f.readlines():\n",
    "        l = line.split(' ')\n",
    "        if l[1][:-1] == '':#如果没有换行，代表是最后一个\n",
    "            inputOutputMap[int(l[0])] = int(l[1])\n",
    "        else:  #除最后一行都会有\\n,需要去掉\n",
    "            inputOutputMap[int(l[0])] = int(l[1][:-1])\n",
    "print(inputOutputMap)"
   ]
  },
  {
   "cell_type": "code",
   "execution_count": null,
   "id": "dfa80e6b",
   "metadata": {},
   "outputs": [],
   "source": []
  },
  {
   "cell_type": "code",
   "execution_count": null,
   "id": "ee86cfda",
   "metadata": {},
   "outputs": [],
   "source": []
  },
  {
   "cell_type": "code",
   "execution_count": null,
   "id": "ddcaaa93",
   "metadata": {},
   "outputs": [],
   "source": []
  }
 ],
 "metadata": {
  "kernelspec": {
   "display_name": "Python 3",
   "language": "python",
   "name": "python3"
  },
  "language_info": {
   "codemirror_mode": {
    "name": "ipython",
    "version": 3
   },
   "file_extension": ".py",
   "mimetype": "text/x-python",
   "name": "python",
   "nbconvert_exporter": "python",
   "pygments_lexer": "ipython3",
   "version": "3.9.2"
  }
 },
 "nbformat": 4,
 "nbformat_minor": 5
}
